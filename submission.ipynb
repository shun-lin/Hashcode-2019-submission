{
 "cells": [
  {
   "cell_type": "code",
   "execution_count": 1,
   "metadata": {},
   "outputs": [],
   "source": [
    "file_names = dict()\n",
    "file_names[\"a\"] = \"a_example.txt\"\n",
    "file_names[\"b\"] = \"b_lovely_landscapes.txt\"\n",
    "file_names[\"c\"] = \"c_memorable_moments.txt\"\n",
    "file_names[\"d\"] = \"d_pet_pictures.txt\"\n",
    "file_names[\"e\"] = \"e_shiny_selfies.txt\""
   ]
  },
  {
   "cell_type": "code",
   "execution_count": 2,
   "metadata": {},
   "outputs": [
    {
     "name": "stderr",
     "output_type": "stream",
     "text": [
      "IOPub data rate exceeded.\n",
      "The notebook server will temporarily stop sending output\n",
      "to the client in order to avoid crashing it.\n",
      "To change this limit, set the config variable\n",
      "`--NotebookApp.iopub_data_rate_limit`.\n",
      "\n",
      "Current values:\n",
      "NotebookApp.iopub_data_rate_limit=1000000.0 (bytes/sec)\n",
      "NotebookApp.rate_limit_window=3.0 (secs)\n",
      "\n"
     ]
    }
   ],
   "source": [
    "# get txt file\n",
    "input_path = \"inputs/\"\n",
    "fname = input_path + file_names[\"b\"]\n",
    "input_file_name = \"b_to_input.txt\"\n",
    "output_file_name = \"b_output.txt\"\n",
    "with open(fname) as f:\n",
    "    content = f.readlines()\n",
    "    content = [x.strip() for x in content]\n",
    "print(content)"
   ]
  },
  {
   "cell_type": "code",
   "execution_count": 3,
   "metadata": {},
   "outputs": [],
   "source": [
    "# prase through input file and put content in a list\n",
    "N = int(content[0])\n",
    "\n",
    "# storage is a list of tuples of (orientation, [attributes], [id])\n",
    "storage = [0] * N\n",
    "for i in range(1, N+1):\n",
    "    line = content[i].split()\n",
    "    orientation = line[0]\n",
    "    attributes = set(line[2:])\n",
    "    item = (orientation, attributes, [i - 1])\n",
    "    storage[i-1] = item"
   ]
  },
  {
   "cell_type": "code",
   "execution_count": 4,
   "metadata": {},
   "outputs": [
    {
     "name": "stderr",
     "output_type": "stream",
     "text": [
      "IOPub data rate exceeded.\n",
      "The notebook server will temporarily stop sending output\n",
      "to the client in order to avoid crashing it.\n",
      "To change this limit, set the config variable\n",
      "`--NotebookApp.iopub_data_rate_limit`.\n",
      "\n",
      "Current values:\n",
      "NotebookApp.iopub_data_rate_limit=1000000.0 (bytes/sec)\n",
      "NotebookApp.rate_limit_window=3.0 (secs)\n",
      "\n"
     ]
    }
   ],
   "source": []
  },
  {
   "cell_type": "code",
   "execution_count": 5,
   "metadata": {},
   "outputs": [],
   "source": [
    "# give the score of the output list\n",
    "# ex: [[1], [0,2]]\n",
    "def score(output_list):\n",
    "    score = 0\n",
    "    M = len(output_list)\n",
    "    for i in range(M-1):\n",
    "        S_left = output_list[i]\n",
    "        S_right = output_list[i+1]\n",
    "        \n",
    "        attributes_left = set()\n",
    "        attributes_right = set()\n",
    "        \n",
    "        for photo_id in S_left:\n",
    "            photo_attributes = storage[photo_id][1]\n",
    "            attributes_left = attributes_left.union(photo_attributes)\n",
    "            \n",
    "        for photo_id in S_right:\n",
    "            photo_attributes = storage[photo_id][1]\n",
    "            attributes_right = attributes_right.union(photo_attributes)\n",
    "            \n",
    "        num_intersection = len(attributes_left.intersection(attributes_right))\n",
    "        num_left = len(attributes_left.difference(attributes_right))\n",
    "        num_right = len(attributes_right.difference(attributes_left))\n",
    "        \n",
    "        score += min(num_intersection, num_left, num_right)\n",
    "        \n",
    "    return score"
   ]
  },
  {
   "cell_type": "code",
   "execution_count": 6,
   "metadata": {},
   "outputs": [
    {
     "name": "stdout",
     "output_type": "stream",
     "text": [
      "0\n"
     ]
    }
   ],
   "source": [
    "test_output = [[0], [3], [1, 2]]\n",
    "print(score(test_output))"
   ]
  },
  {
   "cell_type": "markdown",
   "metadata": {},
   "source": [
    "This text cell is for ideas\n",
    "\n",
    "should use all photos\n",
    "\n",
    "use gradient method\n",
    "\n",
    "two ways to influence score:\n",
    "\n",
    "The order of the slides\n",
    "\n",
    "How the vertical slides are grouped together\n",
    "\n",
    "Traveling Saleman Problem\n",
    "\n",
    "https://github.com/jvkersch/pyconcorde"
   ]
  },
  {
   "cell_type": "code",
   "execution_count": 7,
   "metadata": {},
   "outputs": [],
   "source": [
    "# helper function ot write the solution list to a txt file\n",
    "def write_output(filename, solution):\n",
    "    complete_file_name = filename + \".txt\"\n",
    "    with open(filename, \"w+\") as f:\n",
    "        for photo_ids in solution:\n",
    "            line = \" \".join([str(num) for num in photo_ids])\n",
    "            line += \"\\n\"\n",
    "            f.write(line)"
   ]
  },
  {
   "cell_type": "code",
   "execution_count": 8,
   "metadata": {},
   "outputs": [],
   "source": [
    "# test write output\n",
    "filename = \"test_solution\"\n",
    "write_output(filename, test_output)"
   ]
  },
  {
   "cell_type": "code",
   "execution_count": 9,
   "metadata": {},
   "outputs": [],
   "source": [
    "# import TSPSolver\n",
    "from concorde.tsp import TSPSolver"
   ]
  },
  {
   "cell_type": "code",
   "execution_count": 10,
   "metadata": {},
   "outputs": [
    {
     "name": "stdout",
     "output_type": "stream",
     "text": [
      "[]\n"
     ]
    }
   ],
   "source": [
    "# approach 1, randomly assign vertical pairing and then optimize/finefune\n",
    "vertical_nodes = []\n",
    "horizontal_nodes = []\n",
    "for i in range(len(storage)):\n",
    "    photo = storage[i]\n",
    "    if photo[0] == \"V\":\n",
    "        vertical_nodes.append(photo)\n",
    "    else:\n",
    "        horizontal_nodes.append(photo)\n",
    "\n",
    "import random\n",
    "# randomly shuffle the list \n",
    "random.shuffle(vertical_nodes)\n",
    "print(vertical_nodes)\n",
    "\n",
    "merged_nodes = [0] * (len(vertical_nodes) // 2)\n",
    "for i in range(len(merged_nodes)):\n",
    "    left_vertical_photo = vertical_nodes[2*i]\n",
    "    right_vertical_photo = vertical_nodes[2*i + 1]\n",
    "    orientation = \"V\"\n",
    "    indexes = left_vertical_photo[2] + right_vertical_photo[2]\n",
    "    tags = left_vertical_photo[1].union(right_vertical_photo[1])\n",
    "    merged_nodes[i] = [orientation, tags, indexes]"
   ]
  },
  {
   "cell_type": "code",
   "execution_count": 11,
   "metadata": {},
   "outputs": [
    {
     "name": "stdout",
     "output_type": "stream",
     "text": [
      "[]\n"
     ]
    }
   ],
   "source": [
    "print(merged_nodes)"
   ]
  },
  {
   "cell_type": "code",
   "execution_count": 12,
   "metadata": {},
   "outputs": [
    {
     "name": "stderr",
     "output_type": "stream",
     "text": [
      "IOPub data rate exceeded.\n",
      "The notebook server will temporarily stop sending output\n",
      "to the client in order to avoid crashing it.\n",
      "To change this limit, set the config variable\n",
      "`--NotebookApp.iopub_data_rate_limit`.\n",
      "\n",
      "Current values:\n",
      "NotebookApp.iopub_data_rate_limit=1000000.0 (bytes/sec)\n",
      "NotebookApp.rate_limit_window=3.0 (secs)\n",
      "\n"
     ]
    }
   ],
   "source": [
    "print(horizontal_nodes)"
   ]
  },
  {
   "cell_type": "code",
   "execution_count": 13,
   "metadata": {},
   "outputs": [
    {
     "name": "stderr",
     "output_type": "stream",
     "text": [
      "IOPub data rate exceeded.\n",
      "The notebook server will temporarily stop sending output\n",
      "to the client in order to avoid crashing it.\n",
      "To change this limit, set the config variable\n",
      "`--NotebookApp.iopub_data_rate_limit`.\n",
      "\n",
      "Current values:\n",
      "NotebookApp.iopub_data_rate_limit=1000000.0 (bytes/sec)\n",
      "NotebookApp.rate_limit_window=3.0 (secs)\n",
      "\n"
     ]
    }
   ],
   "source": [
    "list_for_tsp = merged_nodes + horizontal_nodes"
   ]
  },
  {
   "cell_type": "code",
   "execution_count": 14,
   "metadata": {},
   "outputs": [
    {
     "ename": "KeyboardInterrupt",
     "evalue": "",
     "output_type": "error",
     "traceback": [
      "\u001b[0;31m---------------------------------------------------------------------------\u001b[0m",
      "\u001b[0;31mKeyboardInterrupt\u001b[0m                         Traceback (most recent call last)",
      "\u001b[0;32m<ipython-input-14-3117eb7687e6>\u001b[0m in \u001b[0;36m<module>\u001b[0;34m\u001b[0m\n\u001b[1;32m      1\u001b[0m \u001b[0mM\u001b[0m \u001b[0;34m=\u001b[0m \u001b[0mlen\u001b[0m\u001b[0;34m(\u001b[0m\u001b[0mlist_for_tsp\u001b[0m\u001b[0;34m)\u001b[0m\u001b[0;34m\u001b[0m\u001b[0;34m\u001b[0m\u001b[0m\n\u001b[0;32m----> 2\u001b[0;31m \u001b[0mweights\u001b[0m \u001b[0;34m=\u001b[0m \u001b[0;34m[\u001b[0m \u001b[0;34m[\u001b[0m\u001b[0;36m0\u001b[0m\u001b[0;34m]\u001b[0m\u001b[0;34m*\u001b[0m\u001b[0mM\u001b[0m \u001b[0;32mfor\u001b[0m \u001b[0m_\u001b[0m \u001b[0;32min\u001b[0m \u001b[0mrange\u001b[0m\u001b[0;34m(\u001b[0m\u001b[0mM\u001b[0m\u001b[0;34m)\u001b[0m \u001b[0;34m]\u001b[0m\u001b[0;34m\u001b[0m\u001b[0;34m\u001b[0m\u001b[0m\n\u001b[0m\u001b[1;32m      3\u001b[0m \u001b[0;34m\u001b[0m\u001b[0m\n\u001b[1;32m      4\u001b[0m \u001b[0;31m# set of ints\u001b[0m\u001b[0;34m\u001b[0m\u001b[0;34m\u001b[0m\u001b[0;34m\u001b[0m\u001b[0m\n\u001b[1;32m      5\u001b[0m \u001b[0mnodes_used\u001b[0m \u001b[0;34m=\u001b[0m \u001b[0mset\u001b[0m\u001b[0;34m(\u001b[0m\u001b[0;34m)\u001b[0m\u001b[0;34m\u001b[0m\u001b[0;34m\u001b[0m\u001b[0m\n",
      "\u001b[0;32m<ipython-input-14-3117eb7687e6>\u001b[0m in \u001b[0;36m<listcomp>\u001b[0;34m(.0)\u001b[0m\n\u001b[1;32m      1\u001b[0m \u001b[0mM\u001b[0m \u001b[0;34m=\u001b[0m \u001b[0mlen\u001b[0m\u001b[0;34m(\u001b[0m\u001b[0mlist_for_tsp\u001b[0m\u001b[0;34m)\u001b[0m\u001b[0;34m\u001b[0m\u001b[0;34m\u001b[0m\u001b[0m\n\u001b[0;32m----> 2\u001b[0;31m \u001b[0mweights\u001b[0m \u001b[0;34m=\u001b[0m \u001b[0;34m[\u001b[0m \u001b[0;34m[\u001b[0m\u001b[0;36m0\u001b[0m\u001b[0;34m]\u001b[0m\u001b[0;34m*\u001b[0m\u001b[0mM\u001b[0m \u001b[0;32mfor\u001b[0m \u001b[0m_\u001b[0m \u001b[0;32min\u001b[0m \u001b[0mrange\u001b[0m\u001b[0;34m(\u001b[0m\u001b[0mM\u001b[0m\u001b[0;34m)\u001b[0m \u001b[0;34m]\u001b[0m\u001b[0;34m\u001b[0m\u001b[0;34m\u001b[0m\u001b[0m\n\u001b[0m\u001b[1;32m      3\u001b[0m \u001b[0;34m\u001b[0m\u001b[0m\n\u001b[1;32m      4\u001b[0m \u001b[0;31m# set of ints\u001b[0m\u001b[0;34m\u001b[0m\u001b[0;34m\u001b[0m\u001b[0;34m\u001b[0m\u001b[0m\n\u001b[1;32m      5\u001b[0m \u001b[0mnodes_used\u001b[0m \u001b[0;34m=\u001b[0m \u001b[0mset\u001b[0m\u001b[0;34m(\u001b[0m\u001b[0;34m)\u001b[0m\u001b[0;34m\u001b[0m\u001b[0;34m\u001b[0m\u001b[0m\n",
      "\u001b[0;31mKeyboardInterrupt\u001b[0m: "
     ]
    }
   ],
   "source": [
    "M = len(list_for_tsp)\n",
    "weights = [ [0]*M for _ in range(M) ]\n",
    "\n",
    "# set of ints\n",
    "nodes_used = set()\n",
    "\n",
    "# list of tuples (start, end)\n",
    "weights_indexes = []\n",
    "max_weight = 0\n",
    "for i in range(M):\n",
    "    left_node = list_for_tsp[i]\n",
    "    attributes_left = left_node[1]\n",
    "    for j in range(i+1, M):\n",
    "        right_node = list_for_tsp[j]\n",
    "        attributes_right = right_node[1]\n",
    "        \n",
    "        num_intersection = len(attributes_left.intersection(attributes_right))\n",
    "        num_left = len(attributes_left.difference(attributes_right))\n",
    "        num_right = len(attributes_right.difference(attributes_left))\n",
    "        \n",
    "        weight = min(num_intersection, num_left, num_right)\n",
    "        weights[i][j] = weight\n",
    "        \n",
    "        if weight > 0:\n",
    "            nodes_used.add(i)\n",
    "            nodes_used.add(j)\n",
    "            weights_indexes.append((i, j))\n",
    "        \n",
    "        if max_weight < weight:\n",
    "            max_weight = weight"
   ]
  },
  {
   "cell_type": "code",
   "execution_count": null,
   "metadata": {},
   "outputs": [],
   "source": [
    "print(weights)"
   ]
  },
  {
   "cell_type": "code",
   "execution_count": null,
   "metadata": {},
   "outputs": [],
   "source": [
    "\n",
    "input_to_pycorde = open(input_file_name, \"w+\")\n",
    "num_nodes = len(nodes_used)\n",
    "num_edges = len(weights_indexes)\n",
    "\n",
    "input_to_pycorde.write(str(num_nodes) + \" \" + str(num_edges) + \"\\n\")\n",
    "for k in range(num_edges):\n",
    "    i, j = weights_indexes[k]\n",
    "    weight = weights[i][j]\n",
    "    input_to_pycorde.write(str(i) + \" \" + str(j) + \" \" + str(-weight) + \"\\n\")"
   ]
  },
  {
   "cell_type": "code",
   "execution_count": null,
   "metadata": {},
   "outputs": [],
   "source": [
    "from ortools.constraint_solver import pywrapcp\n",
    "from ortools.constraint_solver import routing_enums_pb2"
   ]
  },
  {
   "cell_type": "code",
   "execution_count": null,
   "metadata": {},
   "outputs": [],
   "source": [
    "# Distance callback\n",
    "def create_distance_callback(dist_matrix):\n",
    "  # Create a callback to calculate distances between cities.\n",
    "\n",
    "  def distance_callback(from_node, to_node):\n",
    "    return int(dist_matrix[from_node][to_node])\n",
    "\n",
    "  return distance_callback"
   ]
  },
  {
   "cell_type": "code",
   "execution_count": null,
   "metadata": {},
   "outputs": [],
   "source": [
    "max_weight += 1\n",
    "for i in range(M):\n",
    "    for j in range(i+1, M):\n",
    "        weights[i][j] = max_weight - weights[i][j]\n",
    "print(weights)"
   ]
  },
  {
   "cell_type": "code",
   "execution_count": null,
   "metadata": {},
   "outputs": [],
   "source": [
    "dist_matrix = weights\n",
    "city_names = [node[2] for node in list_for_tsp]\n",
    "print(city_names)"
   ]
  },
  {
   "cell_type": "code",
   "execution_count": null,
   "metadata": {},
   "outputs": [],
   "source": [
    "tsp_size = len(city_names)\n",
    "num_routes = 1\n",
    "depot = 0\n",
    "solution_list = []\n",
    "  # Create routing model\n",
    "if tsp_size > 0:\n",
    "    routing = pywrapcp.RoutingModel(tsp_size, num_routes, depot)\n",
    "    search_parameters = pywrapcp.RoutingModel.DefaultSearchParameters()\n",
    "    # Create the distance callback.\n",
    "    dist_callback = create_distance_callback(dist_matrix)\n",
    "    routing.SetArcCostEvaluatorOfAllVehicles(dist_callback)\n",
    "    # Solve the problem.\n",
    "    assignment = routing.SolveWithParameters(search_parameters)\n",
    "    if assignment:\n",
    "        # Solution distance.\n",
    "        print(\"Total distance: \" + str(assignment.ObjectiveValue()) + \" miles\\n\")\n",
    "        # Display the solution.\n",
    "        # Only one route here; otherwise iterate from 0 to routing.vehicles() - 1\n",
    "        route_number = 0\n",
    "        index = routing.Start(route_number) # Index of the variable for the starting node.\n",
    "        route = ''\n",
    "        while not routing.IsEnd(index):\n",
    "            # Convert variable indices to node indices in the displayed route.\n",
    "            route_i = city_names[routing.IndexToNode(index)]\n",
    "            solution_list.append(route_i)\n",
    "            route += str(route_i) + ' -> '\n",
    "            index = assignment.Value(routing.NextVar(index))\n",
    "        route += str(city_names[routing.IndexToNode(index)])\n",
    "        print(\"Route:\\n\\n\" + route)\n",
    "    else:\n",
    "        print('No solution found.')\n",
    "else:\n",
    "    print('Specify an instance greater than 0.')"
   ]
  },
  {
   "cell_type": "code",
   "execution_count": null,
   "metadata": {},
   "outputs": [],
   "source": []
  },
  {
   "cell_type": "code",
   "execution_count": null,
   "metadata": {},
   "outputs": [],
   "source": [
    "score(solution_list)"
   ]
  },
  {
   "cell_type": "code",
   "execution_count": null,
   "metadata": {},
   "outputs": [],
   "source": [
    "write_output(output_file_name, solution_list)"
   ]
  },
  {
   "cell_type": "code",
   "execution_count": null,
   "metadata": {},
   "outputs": [],
   "source": []
  }
 ],
 "metadata": {
  "kernelspec": {
   "display_name": "Python 3",
   "language": "python",
   "name": "python3"
  },
  "language_info": {
   "codemirror_mode": {
    "name": "ipython",
    "version": 3
   },
   "file_extension": ".py",
   "mimetype": "text/x-python",
   "name": "python",
   "nbconvert_exporter": "python",
   "pygments_lexer": "ipython3",
   "version": "3.7.2"
  }
 },
 "nbformat": 4,
 "nbformat_minor": 2
}
